{
 "cells": [
  {
   "cell_type": "code",
   "execution_count": 32,
   "id": "563bbaf8-099e-47b0-90a3-413cb6c80a4f",
   "metadata": {},
   "outputs": [],
   "source": [
    "using CSV, DataFrames"
   ]
  },
  {
   "cell_type": "code",
   "execution_count": 33,
   "id": "533dc9f0-3fae-4850-9a4e-7dbdb1057c92",
   "metadata": {},
   "outputs": [
    {
     "data": {
      "text/plain": [
       "\"PA01\""
      ]
     },
     "execution_count": 33,
     "metadata": {},
     "output_type": "execute_result"
    }
   ],
   "source": [
    "pname = \"PA01\""
   ]
  },
  {
   "cell_type": "markdown",
   "id": "c5c6d217-764f-41a2-8fa0-995ed0625795",
   "metadata": {},
   "source": [
    "# $$\\frac{dP_{wf}}{dt}$$"
   ]
  },
  {
   "cell_type": "code",
   "execution_count": 42,
   "id": "f51f287e-adc3-4307-bcbd-a446329ccdc6",
   "metadata": {},
   "outputs": [
    {
     "data": {
      "text/html": [
       "<div class=\"data-frame\"><p>5 rows × 3 columns</p><table class=\"data-frame\"><thead><tr><th></th><th>Av BHP</th><th>Name</th><th>Time</th></tr><tr><th></th><th title=\"Float64\">Float64</th><th title=\"String7\">String7</th><th title=\"Int64\">Int64</th></tr></thead><tbody><tr><th>1</th><td>1306.9</td><td>PA01</td><td>0</td></tr><tr><th>2</th><td>1300.32</td><td>PA01</td><td>1</td></tr><tr><th>3</th><td>1295.71</td><td>PA01</td><td>2</td></tr><tr><th>4</th><td>1270.42</td><td>PA01</td><td>3</td></tr><tr><th>5</th><td>1276.96</td><td>PA01</td><td>4</td></tr></tbody></table></div>"
      ],
      "text/latex": [
       "\\begin{tabular}{r|ccc}\n",
       "\t& Av BHP & Name & Time\\\\\n",
       "\t\\hline\n",
       "\t& Float64 & String7 & Int64\\\\\n",
       "\t\\hline\n",
       "\t1 & 1306.9 & PA01 & 0 \\\\\n",
       "\t2 & 1300.32 & PA01 & 1 \\\\\n",
       "\t3 & 1295.71 & PA01 & 2 \\\\\n",
       "\t4 & 1270.42 & PA01 & 3 \\\\\n",
       "\t5 & 1276.96 & PA01 & 4 \\\\\n",
       "\\end{tabular}\n"
      ],
      "text/plain": [
       "\u001b[1m5×3 DataFrame\u001b[0m\n",
       "\u001b[1m Row \u001b[0m│\u001b[1m Av BHP  \u001b[0m\u001b[1m Name    \u001b[0m\u001b[1m Time  \u001b[0m\n",
       "\u001b[1m     \u001b[0m│\u001b[90m Float64 \u001b[0m\u001b[90m String7 \u001b[0m\u001b[90m Int64 \u001b[0m\n",
       "─────┼─────────────────────────\n",
       "   1 │ 1306.9   PA01         0\n",
       "   2 │ 1300.32  PA01         1\n",
       "   3 │ 1295.71  PA01         2\n",
       "   4 │ 1270.42  PA01         3\n",
       "   5 │ 1276.96  PA01         4"
      ]
     },
     "execution_count": 42,
     "metadata": {},
     "output_type": "execute_result"
    }
   ],
   "source": [
    "df = DataFrame(CSV.File(\"../data/producer_data.csv\"))\n",
    "df = filter(:Name => n -> n == pname, df)\n",
    "df = select(df, :\"Av BHP\", :\"Name\", :Column1)\n",
    "df = rename!(df, [:\"Av BHP\", :\"Name\", :\"Time\"])\n",
    "first(df, 5)"
   ]
  },
  {
   "cell_type": "code",
   "execution_count": null,
   "id": "1f7dc713-7566-4ec3-a276-f59f87f6cfe9",
   "metadata": {},
   "outputs": [],
   "source": []
  }
 ],
 "metadata": {
  "kernelspec": {
   "display_name": "Julia 1.8.0",
   "language": "julia",
   "name": "julia-1.8"
  },
  "language_info": {
   "file_extension": ".jl",
   "mimetype": "application/julia",
   "name": "julia",
   "version": "1.8.0"
  }
 },
 "nbformat": 4,
 "nbformat_minor": 5
}
